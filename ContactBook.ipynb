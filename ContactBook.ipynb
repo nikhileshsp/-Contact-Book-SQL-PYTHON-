{
 "cells": [
  {
   "cell_type": "code",
   "execution_count": 1,
   "id": "4fc00b34-3322-4699-8d30-e33e77351274",
   "metadata": {},
   "outputs": [
    {
     "name": "stdout",
     "output_type": "stream",
     "text": [
      "\n",
      "1.Add Contact\n",
      "2.Display Contact\n",
      "3.Search Contact\n",
      "4 Delete Contact\n",
      "5. Exit\n"
     ]
    },
    {
     "name": "stdin",
     "output_type": "stream",
     "text": [
      "Enter Choice: 1\n",
      "enter name:  nikhil\n",
      "Enter phone number: 5856352656\n",
      "Enter email:  nik@hnmik.com\n"
     ]
    },
    {
     "name": "stdout",
     "output_type": "stream",
     "text": [
      "Contact added successfully\n",
      "\n",
      "1.Add Contact\n",
      "2.Display Contact\n",
      "3.Search Contact\n",
      "4 Delete Contact\n",
      "5. Exit\n"
     ]
    },
    {
     "name": "stdin",
     "output_type": "stream",
     "text": [
      "Enter Choice: nik\n"
     ]
    },
    {
     "name": "stdout",
     "output_type": "stream",
     "text": [
      "Invalid choice, Try again\n",
      "\n",
      "1.Add Contact\n",
      "2.Display Contact\n",
      "3.Search Contact\n",
      "4 Delete Contact\n",
      "5. Exit\n"
     ]
    },
    {
     "name": "stdin",
     "output_type": "stream",
     "text": [
      "Enter Choice: 1\n",
      "enter name:  nik\n",
      "Enter phone number: 4552545\n",
      "Enter email:  nik@gmail.com\n"
     ]
    },
    {
     "name": "stdout",
     "output_type": "stream",
     "text": [
      "Contact added successfully\n",
      "\n",
      "1.Add Contact\n",
      "2.Display Contact\n",
      "3.Search Contact\n",
      "4 Delete Contact\n",
      "5. Exit\n"
     ]
    },
    {
     "name": "stdin",
     "output_type": "stream",
     "text": [
      "Enter Choice: 2\n"
     ]
    },
    {
     "name": "stdout",
     "output_type": "stream",
     "text": [
      "Name: nikhil,Phone 5856352656, Email: nik@hnmik.com\n",
      "Name: nik,Phone 4552545, Email: nik@gmail.com\n",
      "\n",
      "1.Add Contact\n",
      "2.Display Contact\n",
      "3.Search Contact\n",
      "4 Delete Contact\n",
      "5. Exit\n"
     ]
    },
    {
     "name": "stdin",
     "output_type": "stream",
     "text": [
      "Enter Choice: 3\n",
      "Enter name to search:  nik\n"
     ]
    },
    {
     "name": "stdout",
     "output_type": "stream",
     "text": [
      "\n",
      "1.Add Contact\n",
      "2.Display Contact\n",
      "3.Search Contact\n",
      "4 Delete Contact\n",
      "5. Exit\n"
     ]
    },
    {
     "name": "stdin",
     "output_type": "stream",
     "text": [
      "Enter Choice: 1\n",
      "enter name:  raj\n",
      "Enter phone number: 452365256\n",
      "Enter email:  nikhhg@gmail.com\n"
     ]
    },
    {
     "name": "stdout",
     "output_type": "stream",
     "text": [
      "Contact added successfully\n",
      "\n",
      "1.Add Contact\n",
      "2.Display Contact\n",
      "3.Search Contact\n",
      "4 Delete Contact\n",
      "5. Exit\n"
     ]
    },
    {
     "name": "stdin",
     "output_type": "stream",
     "text": [
      "Enter Choice: 2\n"
     ]
    },
    {
     "name": "stdout",
     "output_type": "stream",
     "text": [
      "Name: nikhil,Phone 5856352656, Email: nik@hnmik.com\n",
      "Name: nik,Phone 4552545, Email: nik@gmail.com\n",
      "Name: raj,Phone 452365256, Email: nikhhg@gmail.com\n",
      "\n",
      "1.Add Contact\n",
      "2.Display Contact\n",
      "3.Search Contact\n",
      "4 Delete Contact\n",
      "5. Exit\n"
     ]
    },
    {
     "name": "stdin",
     "output_type": "stream",
     "text": [
      "Enter Choice: 4\n",
      "Enter name to delete:  raj\n"
     ]
    },
    {
     "name": "stdout",
     "output_type": "stream",
     "text": [
      "Contact not found\n",
      "Contact not found\n",
      "Contact deleted successfully!..\n",
      "\n",
      "1.Add Contact\n",
      "2.Display Contact\n",
      "3.Search Contact\n",
      "4 Delete Contact\n",
      "5. Exit\n"
     ]
    },
    {
     "name": "stdin",
     "output_type": "stream",
     "text": [
      "Enter Choice: 2\n"
     ]
    },
    {
     "name": "stdout",
     "output_type": "stream",
     "text": [
      "Name: nikhil,Phone 5856352656, Email: nik@hnmik.com\n",
      "Name: nik,Phone 4552545, Email: nik@gmail.com\n",
      "\n",
      "1.Add Contact\n",
      "2.Display Contact\n",
      "3.Search Contact\n",
      "4 Delete Contact\n",
      "5. Exit\n"
     ]
    },
    {
     "name": "stdin",
     "output_type": "stream",
     "text": [
      "Enter Choice: 5\n"
     ]
    },
    {
     "name": "stdout",
     "output_type": "stream",
     "text": [
      "good bye!.\n"
     ]
    }
   ],
   "source": [
    "contacts=[]\n",
    "\n",
    "def add_contact():\n",
    "    name=input(\"enter name: \")\n",
    "    phone=input(\"Enter phone number:\")\n",
    "    email= input(\"Enter email: \")\n",
    "    contacts.append({\"name\":name,\"phone\":phone,\"email\":email})\n",
    "    print(\"Contact added successfully\")\n",
    "\n",
    "def display_contact():\n",
    "    if not contacts:\n",
    "        print(\"No contacts found\")\n",
    "        return\n",
    "    for contact in contacts:\n",
    "        print(f\"Name: {contact['name']},Phone {contact['phone']}, Email: {contact['email']}\")\n",
    "\n",
    "def search_contact():\n",
    "    name= input(\"Enter name to search: \")\n",
    "    for contact in contacts:\n",
    "        if contact[\"name\"].lower()== name.lower():\n",
    "            print(f\"Name: {contact['name']}, Phone: {contact['phone']},Email: {contact['email']}\")\n",
    "        return\n",
    "    print(\"contact not found\")\n",
    "\n",
    "def delete_contact():\n",
    "    name= input(\"Enter name to delete: \")\n",
    "    for contact in contacts:\n",
    "        if contact[\"name\"].lower()== name.lower():\n",
    "            contacts.remove(contact)\n",
    "            print(\"Contact deleted successfully!..\")\n",
    "            return\n",
    "        print(\"Contact not found\")\n",
    "\n",
    "def main():\n",
    "    while True:\n",
    "        print(\"\\n1.Add Contact\\n2.Display Contact\\n3.Search Contact\\n4 Delete Contact\\n5. Exit\")\n",
    "        choice= input(\"Enter Choice:\")\n",
    "        if choice =='1':\n",
    "            add_contact()\n",
    "        elif choice == '2':\n",
    "            display_contact()\n",
    "        elif choice =='3':\n",
    "            search_contact()\n",
    "        elif choice =='4':\n",
    "            delete_contact()\n",
    "        elif choice =='5':\n",
    "            print(\"good bye!.\")\n",
    "            break\n",
    "        else:\n",
    "            print(\"Invalid choice, Try again\")\n",
    "\n",
    "main()\n",
    "        \n",
    "    "
   ]
  },
  {
   "cell_type": "code",
   "execution_count": null,
   "id": "567192f3-8421-43f9-805a-be7e22105501",
   "metadata": {},
   "outputs": [],
   "source": []
  }
 ],
 "metadata": {
  "kernelspec": {
   "display_name": "Python 3 (ipykernel)",
   "language": "python",
   "name": "python3"
  },
  "language_info": {
   "codemirror_mode": {
    "name": "ipython",
    "version": 3
   },
   "file_extension": ".py",
   "mimetype": "text/x-python",
   "name": "python",
   "nbconvert_exporter": "python",
   "pygments_lexer": "ipython3",
   "version": "3.11.11"
  }
 },
 "nbformat": 4,
 "nbformat_minor": 5
}
